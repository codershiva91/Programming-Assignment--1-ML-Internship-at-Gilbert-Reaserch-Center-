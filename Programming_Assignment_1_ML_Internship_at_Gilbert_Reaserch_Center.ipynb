{
  "nbformat": 4,
  "nbformat_minor": 0,
  "metadata": {
    "colab": {
      "provenance": [],
      "authorship_tag": "ABX9TyNFUk1Dqdp9YoUschU7J+Bn",
      "include_colab_link": true
    },
    "kernelspec": {
      "name": "python3",
      "display_name": "Python 3"
    },
    "language_info": {
      "name": "python"
    }
  },
  "cells": [
    {
      "cell_type": "markdown",
      "metadata": {
        "id": "view-in-github",
        "colab_type": "text"
      },
      "source": [
        "<a href=\"https://colab.research.google.com/github/codershiva91/Programming-Assignment--1-ML-Internship-at-Gilbert-Reaserch-Center-/blob/main/Programming_Assignment_1_ML_Internship_at_Gilbert_Reaserch_Center.ipynb\" target=\"_parent\"><img src=\"https://colab.research.google.com/assets/colab-badge.svg\" alt=\"Open In Colab\"/></a>"
      ]
    },
    {
      "cell_type": "code",
      "execution_count": null,
      "metadata": {
        "id": "2W5l70a9j7hc"
      },
      "outputs": [],
      "source": []
    }
  ]
}